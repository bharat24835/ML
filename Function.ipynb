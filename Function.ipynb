{
  "nbformat": 4,
  "nbformat_minor": 0,
  "metadata": {
    "colab": {
      "provenance": [],
      "authorship_tag": "ABX9TyNP4MqHDr9tRy9mtJFjBFWQ",
      "include_colab_link": true
    },
    "kernelspec": {
      "name": "python3",
      "display_name": "Python 3"
    },
    "language_info": {
      "name": "python"
    }
  },
  "cells": [
    {
      "cell_type": "markdown",
      "metadata": {
        "id": "view-in-github",
        "colab_type": "text"
      },
      "source": [
        "<a href=\"https://colab.research.google.com/github/bharat24835/ML/blob/master/Function.ipynb\" target=\"_parent\"><img src=\"https://colab.research.google.com/assets/colab-badge.svg\" alt=\"Open In Colab\"/></a>"
      ]
    },
    {
      "cell_type": "markdown",
      "source": [
        "# Function"
      ],
      "metadata": {
        "id": "wY_0MYB2K13t"
      }
    },
    {
      "cell_type": "code",
      "execution_count": null,
      "metadata": {
        "id": "Fy3JCb3AKyS8"
      },
      "outputs": [],
      "source": [
        "# a block of code that can be resused in a Program"
      ]
    },
    {
      "cell_type": "markdown",
      "source": [
        "# Factorial of A Number"
      ],
      "metadata": {
        "id": "AfDyqLFlLdJk"
      }
    },
    {
      "cell_type": "code",
      "source": [
        "# here we wish to calculate the factorial of f\n",
        "num = int(input(\"Enter the Number : \"))\n",
        "fact = 1\n",
        "\n",
        "if numer == 0  :\n",
        "  print(\"Factorial of Numbe is 0\")\n",
        "else:\n",
        "  for i in range(1,numer+1):\n",
        "    fact = fact*i\n",
        "  print(\"Number is \" ,fact)"
      ],
      "metadata": {
        "id": "j__qHH0tLcrk"
      },
      "execution_count": null,
      "outputs": []
    },
    {
      "cell_type": "code",
      "source": [
        "# now we made function using def keyword\n",
        "def factorial(num):\n",
        "  fact = 1 \n",
        "  if num == 0:\n",
        "    return fact\n",
        "  else:\n",
        "    for i in range(1 ,num +1):\n",
        "      fact =fact*i\n",
        "    return fact\n",
        "\n",
        "print(factorial(3))"
      ],
      "metadata": {
        "colab": {
          "base_uri": "https://localhost:8080/"
        },
        "id": "uM_GQuEgM7g8",
        "outputId": "8ccae545-a7e8-44e2-b654-8f2fb376d75a"
      },
      "execution_count": null,
      "outputs": [
        {
          "output_type": "stream",
          "name": "stdout",
          "text": [
            "6\n"
          ]
        }
      ]
    }
  ]
}